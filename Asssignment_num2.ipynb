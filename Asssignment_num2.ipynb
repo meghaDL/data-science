{
  "cells": [
    {
      "cell_type": "markdown",
      "id": "4b7864af",
      "metadata": {
        "id": "4b7864af"
      },
      "source": [
        "Assignment No.2(1)"
      ]
    },
    {
      "cell_type": "markdown",
      "id": "0366bd4f",
      "metadata": {
        "id": "0366bd4f"
      },
      "source": [
        "\n",
        "Look at the data given below. Plot the data, find the outliers and find out  μ,σ,σ^2"
      ]
    },
    {
      "cell_type": "code",
      "execution_count": null,
      "id": "001a312b",
      "metadata": {
        "id": "001a312b"
      },
      "outputs": [],
      "source": [
        "import pandas as pd\n",
        "import matplotlib.pyplot as plt\n",
        "import seaborn as sns\n",
        "from scipy import stats\n",
        "import numpy as np"
      ]
    },
    {
      "cell_type": "code",
      "execution_count": null,
      "id": "b9bea37e",
      "metadata": {
        "id": "b9bea37e",
        "outputId": "1f61fc0c-0340-44c4-c15b-fea4100c396f"
      },
      "outputs": [
        {
          "data": {
            "text/html": [
              "<div>\n",
              "<style scoped>\n",
              "    .dataframe tbody tr th:only-of-type {\n",
              "        vertical-align: middle;\n",
              "    }\n",
              "\n",
              "    .dataframe tbody tr th {\n",
              "        vertical-align: top;\n",
              "    }\n",
              "\n",
              "    .dataframe thead th {\n",
              "        text-align: right;\n",
              "    }\n",
              "</style>\n",
              "<table border=\"1\" class=\"dataframe\">\n",
              "  <thead>\n",
              "    <tr style=\"text-align: right;\">\n",
              "      <th></th>\n",
              "      <th>Name of company</th>\n",
              "      <th>Measure X</th>\n",
              "      <th>Percentage</th>\n",
              "    </tr>\n",
              "  </thead>\n",
              "  <tbody>\n",
              "    <tr>\n",
              "      <th>0</th>\n",
              "      <td>Allied Signal</td>\n",
              "      <td>24.23%</td>\n",
              "      <td>0.2423</td>\n",
              "    </tr>\n",
              "    <tr>\n",
              "      <th>1</th>\n",
              "      <td>Bankers Trust</td>\n",
              "      <td>25.53%</td>\n",
              "      <td>0.2553</td>\n",
              "    </tr>\n",
              "    <tr>\n",
              "      <th>2</th>\n",
              "      <td>General Mills</td>\n",
              "      <td>25.41%</td>\n",
              "      <td>0.2541</td>\n",
              "    </tr>\n",
              "    <tr>\n",
              "      <th>3</th>\n",
              "      <td>ITT Industries</td>\n",
              "      <td>24.14%</td>\n",
              "      <td>0.2414</td>\n",
              "    </tr>\n",
              "    <tr>\n",
              "      <th>4</th>\n",
              "      <td>J.P.Morgan &amp; Co.</td>\n",
              "      <td>29.62%</td>\n",
              "      <td>0.2962</td>\n",
              "    </tr>\n",
              "    <tr>\n",
              "      <th>5</th>\n",
              "      <td>Lehman Brothers</td>\n",
              "      <td>28.25%</td>\n",
              "      <td>0.2825</td>\n",
              "    </tr>\n",
              "    <tr>\n",
              "      <th>6</th>\n",
              "      <td>Marriott</td>\n",
              "      <td>25.81%</td>\n",
              "      <td>0.2581</td>\n",
              "    </tr>\n",
              "    <tr>\n",
              "      <th>7</th>\n",
              "      <td>MCI</td>\n",
              "      <td>24.39%</td>\n",
              "      <td>0.2439</td>\n",
              "    </tr>\n",
              "    <tr>\n",
              "      <th>8</th>\n",
              "      <td>Merrill Lynch</td>\n",
              "      <td>40.26%</td>\n",
              "      <td>0.4026</td>\n",
              "    </tr>\n",
              "    <tr>\n",
              "      <th>9</th>\n",
              "      <td>Microsoft</td>\n",
              "      <td>32.95%</td>\n",
              "      <td>0.3295</td>\n",
              "    </tr>\n",
              "    <tr>\n",
              "      <th>10</th>\n",
              "      <td>Morgan Stanley</td>\n",
              "      <td>91.36%</td>\n",
              "      <td>0.9136</td>\n",
              "    </tr>\n",
              "    <tr>\n",
              "      <th>11</th>\n",
              "      <td>Sun Microsystems</td>\n",
              "      <td>25.99%</td>\n",
              "      <td>0.2599</td>\n",
              "    </tr>\n",
              "    <tr>\n",
              "      <th>12</th>\n",
              "      <td>Travelers</td>\n",
              "      <td>39.42%</td>\n",
              "      <td>0.3942</td>\n",
              "    </tr>\n",
              "    <tr>\n",
              "      <th>13</th>\n",
              "      <td>US Airways</td>\n",
              "      <td>26.71%</td>\n",
              "      <td>0.2671</td>\n",
              "    </tr>\n",
              "    <tr>\n",
              "      <th>14</th>\n",
              "      <td>Warner-Lambert</td>\n",
              "      <td>35.00%</td>\n",
              "      <td>0.3500</td>\n",
              "    </tr>\n",
              "  </tbody>\n",
              "</table>\n",
              "</div>"
            ],
            "text/plain": [
              "     Name of company Measure X  Percentage\n",
              "0      Allied Signal    24.23%      0.2423\n",
              "1      Bankers Trust    25.53%      0.2553\n",
              "2      General Mills    25.41%      0.2541\n",
              "3     ITT Industries    24.14%      0.2414\n",
              "4   J.P.Morgan & Co.    29.62%      0.2962\n",
              "5    Lehman Brothers    28.25%      0.2825\n",
              "6           Marriott    25.81%      0.2581\n",
              "7                MCI    24.39%      0.2439\n",
              "8      Merrill Lynch    40.26%      0.4026\n",
              "9          Microsoft    32.95%      0.3295\n",
              "10    Morgan Stanley    91.36%      0.9136\n",
              "11  Sun Microsystems    25.99%      0.2599\n",
              "12         Travelers    39.42%      0.3942\n",
              "13        US Airways    26.71%      0.2671\n",
              "14    Warner-Lambert    35.00%      0.3500"
            ]
          },
          "execution_count": 2,
          "metadata": {},
          "output_type": "execute_result"
        }
      ],
      "source": [
        "df=pd.read_csv(\"D:\\\\Data Science\\\\Basics 2.0\\\\Q2 (1).csv\")\n",
        "df"
      ]
    },
    {
      "cell_type": "code",
      "execution_count": null,
      "id": "d0efae5f",
      "metadata": {
        "id": "d0efae5f",
        "outputId": "2bf2f7ef-1eee-485c-eb4b-942a4d2fc7e0"
      },
      "outputs": [
        {
          "data": {
            "text/html": [
              "<div>\n",
              "<style scoped>\n",
              "    .dataframe tbody tr th:only-of-type {\n",
              "        vertical-align: middle;\n",
              "    }\n",
              "\n",
              "    .dataframe tbody tr th {\n",
              "        vertical-align: top;\n",
              "    }\n",
              "\n",
              "    .dataframe thead th {\n",
              "        text-align: right;\n",
              "    }\n",
              "</style>\n",
              "<table border=\"1\" class=\"dataframe\">\n",
              "  <thead>\n",
              "    <tr style=\"text-align: right;\">\n",
              "      <th></th>\n",
              "      <th>Percentage</th>\n",
              "    </tr>\n",
              "  </thead>\n",
              "  <tbody>\n",
              "    <tr>\n",
              "      <th>count</th>\n",
              "      <td>15.000000</td>\n",
              "    </tr>\n",
              "    <tr>\n",
              "      <th>mean</th>\n",
              "      <td>0.332713</td>\n",
              "    </tr>\n",
              "    <tr>\n",
              "      <th>std</th>\n",
              "      <td>0.169454</td>\n",
              "    </tr>\n",
              "    <tr>\n",
              "      <th>min</th>\n",
              "      <td>0.241400</td>\n",
              "    </tr>\n",
              "    <tr>\n",
              "      <th>25%</th>\n",
              "      <td>0.254700</td>\n",
              "    </tr>\n",
              "    <tr>\n",
              "      <th>50%</th>\n",
              "      <td>0.267100</td>\n",
              "    </tr>\n",
              "    <tr>\n",
              "      <th>75%</th>\n",
              "      <td>0.339750</td>\n",
              "    </tr>\n",
              "    <tr>\n",
              "      <th>max</th>\n",
              "      <td>0.913600</td>\n",
              "    </tr>\n",
              "  </tbody>\n",
              "</table>\n",
              "</div>"
            ],
            "text/plain": [
              "       Percentage\n",
              "count   15.000000\n",
              "mean     0.332713\n",
              "std      0.169454\n",
              "min      0.241400\n",
              "25%      0.254700\n",
              "50%      0.267100\n",
              "75%      0.339750\n",
              "max      0.913600"
            ]
          },
          "execution_count": 3,
          "metadata": {},
          "output_type": "execute_result"
        }
      ],
      "source": [
        "df.describe()"
      ]
    },
    {
      "cell_type": "code",
      "execution_count": null,
      "id": "d271168b",
      "metadata": {
        "id": "d271168b",
        "outputId": "fa2e1535-a49c-431f-fa2b-eed611e50039"
      },
      "outputs": [
        {
          "data": {
            "text/plain": [
              "Percentage    0.332713\n",
              "dtype: float64"
            ]
          },
          "execution_count": 4,
          "metadata": {},
          "output_type": "execute_result"
        }
      ],
      "source": [
        "df.mean()"
      ]
    },
    {
      "cell_type": "code",
      "execution_count": null,
      "id": "8775fbdc",
      "metadata": {
        "id": "8775fbdc",
        "outputId": "2c7200e0-994e-4cc5-c51a-ed2a3607d813"
      },
      "outputs": [
        {
          "data": {
            "text/plain": [
              "{'whiskers': [<matplotlib.lines.Line2D at 0xa142820>,\n",
              "  <matplotlib.lines.Line2D at 0xa142b80>],\n",
              " 'caps': [<matplotlib.lines.Line2D at 0xa142ee0>,\n",
              "  <matplotlib.lines.Line2D at 0xa159280>],\n",
              " 'boxes': [<matplotlib.lines.Line2D at 0xa1424c0>],\n",
              " 'medians': [<matplotlib.lines.Line2D at 0xa1595e0>],\n",
              " 'fliers': [<matplotlib.lines.Line2D at 0xa159940>],\n",
              " 'means': []}"
            ]
          },
          "execution_count": 5,
          "metadata": {},
          "output_type": "execute_result"
        },
        {
          "data": {
            "image/png": "[encoded data removed]",
            "text/plain": [
              "<Figure size 720x216 with 1 Axes>"
            ]
          },
          "metadata": {
            "needs_background": "light"
          },
          "output_type": "display_data"
        }
      ],
      "source": [
        "plt.figure(figsize = (10,3));\n",
        "plt.boxplot(df.Percentage, vert= False)"
      ]
    },
    {
      "cell_type": "code",
      "execution_count": null,
      "id": "8a62fd54",
      "metadata": {
        "id": "8a62fd54",
        "outputId": "af9f53b7-849a-4fe8-8929-5f4aa351777d"
      },
      "outputs": [
        {
          "data": {
            "text/plain": [
              "Percentage    0.028715\n",
              "dtype: float64"
            ]
          },
          "execution_count": 6,
          "metadata": {},
          "output_type": "execute_result"
        }
      ],
      "source": [
        "df.var()"
      ]
    },
    {
      "cell_type": "markdown",
      "id": "a3653356",
      "metadata": {
        "id": "a3653356"
      },
      "source": [
        "Assignment No.2(2)"
      ]
    },
    {
      "cell_type": "markdown",
      "id": "5a711fcf",
      "metadata": {
        "id": "5a711fcf"
      },
      "source": [
        "1.\tThe time required for servicing transmissions is normally distributed with  = 45 minutes and  = 8 minutes. The service manager plans to have work begin on the transmission of a customer’s car 10 minutes after the car is dropped off and the customer is told that the car will be ready within 1 hour from drop-off. What is the probability that the service manager cannot meet his commitment?\n",
        "\n",
        "A.\t0.3875   \n",
        "B.\t0.2676   \n",
        "C.\t0.5   \n",
        "D.\t0.6987\n"
      ]
    },
    {
      "cell_type": "code",
      "execution_count": null,
      "id": "277b44c9",
      "metadata": {
        "id": "277b44c9",
        "outputId": "4d535f3d-5e97-46ff-a2bb-93a727ac013f"
      },
      "outputs": [
        {
          "data": {
            "text/plain": [
              "0.26598552904870054"
            ]
          },
          "execution_count": 7,
          "metadata": {},
          "output_type": "execute_result"
        }
      ],
      "source": [
        "p1=1-stats.norm.cdf(60,55,8)\n",
        "p1"
      ]
    },
    {
      "cell_type": "markdown",
      "id": "518b6fd6",
      "metadata": {
        "id": "518b6fd6"
      },
      "source": [
        "2.\tThe current age (in years) of 400 clerical employees at an insurance claims processing center is normally distributed with mean  = 38 and Standard deviation  =6. For each statement below, please specify True/False. If false, briefly explain why.\n",
        "A.\tMore employees at the processing center are older than 44 than between 38 and 44.\n"
      ]
    },
    {
      "cell_type": "code",
      "execution_count": null,
      "id": "189d7581",
      "metadata": {
        "id": "189d7581",
        "outputId": "a79805cc-e549-4e98-c7f0-cccd8587e39b"
      },
      "outputs": [
        {
          "data": {
            "text/plain": [
              "0.15865525393145707"
            ]
          },
          "execution_count": 8,
          "metadata": {},
          "output_type": "execute_result"
        }
      ],
      "source": [
        "q1=1-stats.norm.cdf(44,38,6)  #µ = 44, σ = 6\n",
        "q1"
      ]
    },
    {
      "cell_type": "code",
      "execution_count": null,
      "id": "2aadc415",
      "metadata": {
        "id": "2aadc415",
        "outputId": "d0fe56f2-b920-40e7-f511-93eb6bcd9d63"
      },
      "outputs": [
        {
          "data": {
            "text/plain": [
              "0.5"
            ]
          },
          "execution_count": 9,
          "metadata": {},
          "output_type": "execute_result"
        }
      ],
      "source": [
        "q2=1-stats.norm.cdf(38,38,6)  #µ = 38, σ = 6\n",
        "q2"
      ]
    },
    {
      "cell_type": "code",
      "execution_count": null,
      "id": "0ee6d797",
      "metadata": {
        "id": "0ee6d797",
        "outputId": "cff606e5-e11c-4391-9e06-e746f2fb8a22"
      },
      "outputs": [
        {
          "data": {
            "text/plain": [
              "0.3413447460685429"
            ]
          },
          "execution_count": 10,
          "metadata": {},
          "output_type": "execute_result"
        }
      ],
      "source": [
        "#The probability of employees aged between 38 to 44 will be\n",
        "q=q2-q1\n",
        "q"
      ]
    },
    {
      "cell_type": "markdown",
      "id": "93428dd4",
      "metadata": {
        "id": "93428dd4"
      },
      "source": [
        "B.\tA training program for employees under the age of 30 at the center would be expected to attract about 36 employees."
      ]
    },
    {
      "cell_type": "code",
      "execution_count": null,
      "id": "14765351",
      "metadata": {
        "id": "14765351",
        "outputId": "1c3a3ec5-abb4-44f6-d3ba-c641b5576936"
      },
      "outputs": [
        {
          "data": {
            "text/plain": [
              "36.484487890347154"
            ]
          },
          "execution_count": 11,
          "metadata": {},
          "output_type": "execute_result"
        }
      ],
      "source": [
        "400*stats.norm.cdf(30,38,6) #N*P(X<30)"
      ]
    },
    {
      "cell_type": "markdown",
      "id": "e2093a67",
      "metadata": {
        "id": "e2093a67"
      },
      "source": [
        "\n",
        "4.\tLet X ~ N(100, 202). Find two values, a andb, symmetric about the mean, such that the probability of the random variable taking a value between them is 0.99.\n",
        "\n",
        "A.\t90.5, 105.9\n",
        "B.\t80.2, 119.8\n",
        "C.\t22, 78\n",
        "D.\t48.5, 151.5\n",
        "E.\t90.1, 109.9\n"
      ]
    },
    {
      "cell_type": "code",
      "execution_count": null,
      "id": "2c8bfb07",
      "metadata": {
        "id": "2c8bfb07",
        "outputId": "2dc75a2b-ccc5-41d4-b452-b674b438bc08"
      },
      "outputs": [
        {
          "data": {
            "text/plain": [
              "(48.48341392902199, 151.516586070978)"
            ]
          },
          "execution_count": 12,
          "metadata": {},
          "output_type": "execute_result"
        }
      ],
      "source": [
        "stats.norm.interval(0.99,100,20)"
      ]
    },
    {
      "cell_type": "markdown",
      "id": "8b20188b",
      "metadata": {
        "id": "8b20188b"
      },
      "source": [
        "5.\tConsider a company that has two different divisions. The annual profits from the two divisions are independent and have distributions Profit1 ~ N(5, 32) and Profit2 ~ N(7, 42) respectively. Both the profits are in $ Million. Answer the following questions about the total profit of the company in Rupees. Assume that $1 = Rs. 45\n",
        "A.\tSpecify a Rupee range (centered on the mean) such that it contains 95% probability for the annual profit of the company\n"
      ]
    },
    {
      "cell_type": "code",
      "execution_count": null,
      "id": "cd544ef2",
      "metadata": {
        "id": "cd544ef2"
      },
      "outputs": [],
      "source": [
        "#X ~ N(12, 5) #Add X1+X2 -->Convert $ into Rupees i.e. X*45\n",
        "#X ~ N(540, 225) #Answer will be Rs. in Million"
      ]
    },
    {
      "cell_type": "code",
      "execution_count": null,
      "id": "3b789ced",
      "metadata": {
        "id": "3b789ced",
        "outputId": "cf704447-036a-49cc-b020-5f69f351fa8e"
      },
      "outputs": [
        {
          "name": "stdout",
          "output_type": "stream",
          "text": [
            "Range is Rs. (99.00810347848784, 980.9918965215122) Million\n"
          ]
        }
      ],
      "source": [
        "X1=stats.norm.interval(0.95,540,225)\n",
        "print('Range is Rs.',X1,'Million')"
      ]
    },
    {
      "cell_type": "markdown",
      "id": "44767e2a",
      "metadata": {
        "id": "44767e2a"
      },
      "source": [
        "B.\tSpecify the 5th percentile of profit (in Rupees) for the company"
      ]
    },
    {
      "cell_type": "code",
      "execution_count": null,
      "id": "133b147c",
      "metadata": {
        "id": "133b147c",
        "outputId": "f19fea5f-16fa-4c02-dcf6-0aea3f868854"
      },
      "outputs": [
        {
          "name": "stdout",
          "output_type": "stream",
          "text": [
            "5th percentile of profit is Rs. 170.0 Million\n"
          ]
        }
      ],
      "source": [
        "# To compute 5th Percentile, we use the formula X=μ + Zσ; wherein from z table, 5 percentile = -1.645\n",
        "X2= 540+(-1.645)*(225)\n",
        "print('5th percentile of profit is Rs.',np.round(X2),'Million')"
      ]
    },
    {
      "cell_type": "markdown",
      "id": "ae25c353",
      "metadata": {
        "id": "ae25c353"
      },
      "source": [
        "C.\tWhich of the two divisions has a larger probability of making a loss in a given year?"
      ]
    },
    {
      "cell_type": "code",
      "execution_count": null,
      "id": "504518cc",
      "metadata": {
        "id": "504518cc",
        "outputId": "33989968-1fa2-4c0c-84a7-c1a676c9a5ef"
      },
      "outputs": [
        {
          "data": {
            "text/plain": [
              "0.0477903522728147"
            ]
          },
          "execution_count": 16,
          "metadata": {},
          "output_type": "execute_result"
        }
      ],
      "source": [
        "# Probability of Division 1 making a loss P(X<0)\n",
        "stats.norm.cdf(0,5,3)"
      ]
    },
    {
      "cell_type": "code",
      "execution_count": null,
      "id": "530af981",
      "metadata": {
        "id": "530af981",
        "outputId": "dab8033f-05ae-47f9-8640-b1822e52f7b2"
      },
      "outputs": [
        {
          "data": {
            "text/plain": [
              "0.040059156863817086"
            ]
          },
          "execution_count": 17,
          "metadata": {},
          "output_type": "execute_result"
        }
      ],
      "source": [
        "# For Division 2\n",
        "stats.norm.cdf(0,7,4)"
      ]
    },
    {
      "cell_type": "markdown",
      "id": "6061f917",
      "metadata": {
        "id": "6061f917"
      },
      "source": [
        "Assignment No.2(3)"
      ]
    },
    {
      "cell_type": "markdown",
      "id": "eec4703f",
      "metadata": {
        "id": "eec4703f"
      },
      "source": [
        "5.\tIn January 2005, a company that monitors Internet traffic (WebSideStory) reported that its sampling revealed that the Mozilla Firefox browser launched in 2004 had grabbed a 4.6% share of the market.\n",
        "\n",
        "I.\tIf the sample were based on 2,000 users, could Microsoft conclude that Mozilla has a less than 5% share of the market?\n",
        "\n",
        "II.\tWebSideStory claims that its sample includes all the daily Internet users. If that’s the case, then can Microsoft conclude that Mozilla has a less than 5% share of the market?\n"
      ]
    },
    {
      "cell_type": "code",
      "execution_count": null,
      "id": "a63f25ff",
      "metadata": {
        "id": "a63f25ff",
        "outputId": "0c023bc7-dc3c-4752-af96-99ac8a978474"
      },
      "outputs": [
        {
          "name": "stdout",
          "output_type": "stream",
          "text": [
            "Z-score is -0.8208\n"
          ]
        }
      ],
      "source": [
        "z=(0.046-0.05)/(np.sqrt((0.05*(1-0.05))/2000))\n",
        "print('Z-score is',np.round(z,4))"
      ]
    },
    {
      "cell_type": "code",
      "execution_count": null,
      "id": "79119c73",
      "metadata": {
        "id": "79119c73",
        "outputId": "9255e5d5-d646-475d-a3e1-cf09023ca90d"
      },
      "outputs": [
        {
          "data": {
            "text/plain": [
              "0.20588503245107104"
            ]
          },
          "execution_count": 19,
          "metadata": {},
          "output_type": "execute_result"
        }
      ],
      "source": [
        "p=stats.norm.cdf(z) #α = 0.05\n",
        "p                   #Assuming null hyposthesis, compare with Type-1 error"
      ]
    },
    {
      "cell_type": "markdown",
      "id": "3b144ed1",
      "metadata": {
        "id": "3b144ed1"
      },
      "source": [
        "8.\tHow many randomly selected employers (minimum number) must we contact in order to guarantee a margin of error of no more than 4% (at 95% confidence)?\n",
        "\n",
        "A.\t600\n",
        "B.\t400\n",
        "C.\t550\n",
        "D.\t1000\n"
      ]
    },
    {
      "cell_type": "code",
      "execution_count": null,
      "id": "b9c95986",
      "metadata": {
        "id": "b9c95986",
        "outputId": "6ec8573b-43bb-4b73-860f-c9198afe15a2"
      },
      "outputs": [
        {
          "data": {
            "text/plain": [
              "1.959963984540054"
            ]
          },
          "execution_count": 20,
          "metadata": {},
          "output_type": "execute_result"
        }
      ],
      "source": [
        "stats.norm.ppf(0.975)"
      ]
    },
    {
      "cell_type": "code",
      "execution_count": null,
      "id": "04ed4cf4",
      "metadata": {
        "id": "04ed4cf4",
        "outputId": "944e4acb-3839-40d9-ea01-0bd14c92622a"
      },
      "outputs": [
        {
          "data": {
            "text/plain": [
              "600.2499999999999"
            ]
          },
          "execution_count": 21,
          "metadata": {},
          "output_type": "execute_result"
        }
      ],
      "source": [
        "n= ((1.96**2)*(0.5**2))/0.04**2\n",
        "n"
      ]
    },
    {
      "cell_type": "markdown",
      "id": "f7ff180c",
      "metadata": {
        "id": "f7ff180c"
      },
      "source": [
        "\n",
        "9.\tSuppose we want the above margin of error to be based on a 98% confidence level. What sample size (minimum) must we now use?\n",
        "\n",
        "A.\t1000\n",
        "B.\t757\n",
        "C.\t848\n",
        "D.\t543\n"
      ]
    },
    {
      "cell_type": "code",
      "execution_count": null,
      "id": "8523389b",
      "metadata": {
        "id": "8523389b",
        "outputId": "d7a1483e-0aae-47e6-d3c4-9cbf982f04ab"
      },
      "outputs": [
        {
          "data": {
            "text/plain": [
              "2.3263478740408408"
            ]
          },
          "execution_count": 22,
          "metadata": {},
          "output_type": "execute_result"
        }
      ],
      "source": [
        "stats.norm.ppf(0.99)"
      ]
    },
    {
      "cell_type": "code",
      "execution_count": null,
      "id": "d0b26bb8",
      "metadata": {
        "id": "d0b26bb8",
        "outputId": "b12cccd6-aec6-418c-fc75-c2837840764c"
      },
      "outputs": [
        {
          "data": {
            "text/plain": [
              "845.355625"
            ]
          },
          "execution_count": 23,
          "metadata": {},
          "output_type": "execute_result"
        }
      ],
      "source": [
        "m= ((2.326**2)*(0.5**2))/0.04**2\n",
        "m"
      ]
    },
    {
      "cell_type": "markdown",
      "id": "7e238725",
      "metadata": {
        "id": "7e238725"
      },
      "source": [
        "Assignment No.2(4)"
      ]
    },
    {
      "cell_type": "markdown",
      "id": "2e2d3c3d",
      "metadata": {
        "id": "2e2d3c3d"
      },
      "source": [
        "3.\tAuditors at a small community bank randomly sample 100 withdrawal transactions made during the week at an ATM machine located near the bank’s main branch. Over the past 2 years, the average withdrawal amount has been $50 with a standard deviation of $40. Since audit investigations are typically expensive, the auditors decide to not initiate further investigations if the mean transaction amount of the sample is between $45 and $55. What is the probability that in any given week, there will be an investigation?\n",
        "\n",
        "A.\t1.25%\n",
        "B.\t2.5%\n",
        "C.\t10.55%\n",
        "D.\t21.1%\n",
        "E.\t50%\n"
      ]
    },
    {
      "cell_type": "code",
      "execution_count": null,
      "id": "e7716114",
      "metadata": {
        "id": "e7716114",
        "outputId": "a065a44f-ea05-42b2-f2fa-c85682129410"
      },
      "outputs": [
        {
          "data": {
            "text/plain": [
              "0.4502617751698871"
            ]
          },
          "execution_count": 42,
          "metadata": {},
          "output_type": "execute_result"
        }
      ],
      "source": [
        "c1=stats.norm.cdf(45,50,40)\n",
        "c1"
      ]
    },
    {
      "cell_type": "code",
      "execution_count": null,
      "id": "36bbb8d5",
      "metadata": {
        "id": "36bbb8d5",
        "outputId": "bf1c5dc1-9179-498a-b0b6-b73e83c045a9"
      },
      "outputs": [
        {
          "data": {
            "text/plain": [
              "0.5497382248301129"
            ]
          },
          "execution_count": 43,
          "metadata": {},
          "output_type": "execute_result"
        }
      ],
      "source": [
        "c2=stats.norm.cdf(55,50,40)\n",
        "c2"
      ]
    },
    {
      "cell_type": "code",
      "execution_count": null,
      "id": "20574991",
      "metadata": {
        "id": "20574991",
        "outputId": "d02c6d31-be93-4f8d-d956-d407a55afd03"
      },
      "outputs": [
        {
          "data": {
            "text/plain": [
              "0.09947644966022584"
            ]
          },
          "execution_count": 44,
          "metadata": {},
          "output_type": "execute_result"
        }
      ],
      "source": [
        "c=c2-c1\n",
        "c"
      ]
    },
    {
      "cell_type": "code",
      "execution_count": null,
      "id": "f785e525",
      "metadata": {
        "id": "f785e525",
        "outputId": "86ab69dc-7dec-4edb-e068-1bab4eca5f1c"
      },
      "outputs": [
        {
          "data": {
            "text/plain": [
              "(45.0, 55.0)"
            ]
          },
          "execution_count": 46,
          "metadata": {},
          "output_type": "execute_result"
        }
      ],
      "source": [
        "stats.norm.interval(c,50,40)"
      ]
    },
    {
      "cell_type": "code",
      "execution_count": null,
      "id": "c70dd389",
      "metadata": {
        "id": "c70dd389"
      },
      "outputs": [],
      "source": []
    }
  ],
  "metadata": {
    "kernelspec": {
      "display_name": "Python 3",
      "language": "python",
      "name": "python3"
    },
    "language_info": {
      "codemirror_mode": {
        "name": "ipython",
        "version": 3
      },
      "file_extension": ".py",
      "mimetype": "text/x-python",
      "name": "python",
      "nbconvert_exporter": "python",
      "pygments_lexer": "ipython3",
      "version": "3.8.8"
    },
    "colab": {
      "provenance": []
    }
  },
  "nbformat": 4,
  "nbformat_minor": 5
}